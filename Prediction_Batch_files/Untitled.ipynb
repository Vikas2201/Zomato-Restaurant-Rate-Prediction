{
 "cells": [
  {
   "cell_type": "code",
   "execution_count": 38,
   "metadata": {},
   "outputs": [],
   "source": [
    "import pandas as pd"
   ]
  },
  {
   "cell_type": "code",
   "execution_count": 39,
   "metadata": {},
   "outputs": [],
   "source": [
    "data= pd.read_csv(\"zomato_18052019_084400.csv\")"
   ]
  },
  {
   "cell_type": "code",
   "execution_count": 40,
   "metadata": {},
   "outputs": [],
   "source": [
    "new_data=data.head()"
   ]
  },
  {
   "cell_type": "code",
   "execution_count": 43,
   "metadata": {},
   "outputs": [
    {
     "name": "stderr",
     "output_type": "stream",
     "text": [
      "C:\\Users\\virat\\Anaconda3\\lib\\site-packages\\pandas\\core\\frame.py:3391: SettingWithCopyWarning: \n",
      "A value is trying to be set on a copy of a slice from a DataFrame.\n",
      "Try using .loc[row_indexer,col_indexer] = value instead\n",
      "\n",
      "See the caveats in the documentation: http://pandas.pydata.org/pandas-docs/stable/indexing.html#indexing-view-versus-copy\n",
      "  self[k1] = value[k2]\n"
     ]
    }
   ],
   "source": [
    "new_data[['serial','url']]=new_data[['url','serial']]"
   ]
  },
  {
   "cell_type": "code",
   "execution_count": 44,
   "metadata": {},
   "outputs": [
    {
     "data": {
      "text/html": [
       "<div>\n",
       "<style scoped>\n",
       "    .dataframe tbody tr th:only-of-type {\n",
       "        vertical-align: middle;\n",
       "    }\n",
       "\n",
       "    .dataframe tbody tr th {\n",
       "        vertical-align: top;\n",
       "    }\n",
       "\n",
       "    .dataframe thead th {\n",
       "        text-align: right;\n",
       "    }\n",
       "</style>\n",
       "<table border=\"1\" class=\"dataframe\">\n",
       "  <thead>\n",
       "    <tr style=\"text-align: right;\">\n",
       "      <th></th>\n",
       "      <th>serial</th>\n",
       "      <th>url</th>\n",
       "      <th>address</th>\n",
       "      <th>name</th>\n",
       "      <th>online_order</th>\n",
       "      <th>book_table</th>\n",
       "      <th>rate</th>\n",
       "      <th>votes</th>\n",
       "      <th>phone</th>\n",
       "      <th>location</th>\n",
       "      <th>rest_type</th>\n",
       "      <th>dish_liked</th>\n",
       "      <th>cuisines</th>\n",
       "      <th>reviews_list</th>\n",
       "      <th>menu_item</th>\n",
       "      <th>listed_in(type)</th>\n",
       "      <th>listed_in(city)</th>\n",
       "    </tr>\n",
       "  </thead>\n",
       "  <tbody>\n",
       "    <tr>\n",
       "      <th>0</th>\n",
       "      <td>https://www.zomato.com/bangalore/sri-punjabi-d...</td>\n",
       "      <td>1001</td>\n",
       "      <td>2/20, 100 Feet Ring Road, BTM 1st Stage, BTM, ...</td>\n",
       "      <td>Sri Punjabi Dhaba</td>\n",
       "      <td>Yes</td>\n",
       "      <td>No</td>\n",
       "      <td>3.3/5</td>\n",
       "      <td>39</td>\n",
       "      <td>+91 9632537148</td>\n",
       "      <td>BTM</td>\n",
       "      <td>Dhaba</td>\n",
       "      <td>NaN</td>\n",
       "      <td>North Indian</td>\n",
       "      <td>[('Rated 1.0', 'RATED\\n  Sorry to say but this...</td>\n",
       "      <td>['Aloo Jeera', 'Paneer Patiyala', 'Malai Kofta...</td>\n",
       "      <td>Delivery</td>\n",
       "      <td>Bannerghatta Road</td>\n",
       "    </tr>\n",
       "    <tr>\n",
       "      <th>1</th>\n",
       "      <td>https://www.zomato.com/bangalore/arabian-mexic...</td>\n",
       "      <td>1002</td>\n",
       "      <td>21, 1st Cross, Lakshmi Layout, Oppsite DEJA Ap...</td>\n",
       "      <td>Arabian Mexico</td>\n",
       "      <td>Yes</td>\n",
       "      <td>No</td>\n",
       "      <td>3.4/5</td>\n",
       "      <td>43</td>\n",
       "      <td>080 45128698</td>\n",
       "      <td>Bannerghatta Road</td>\n",
       "      <td>Quick Bites</td>\n",
       "      <td>NaN</td>\n",
       "      <td>Fast Food, Arabian</td>\n",
       "      <td>[('Rated 1.0', 'RATED\\n  Road side food is goo...</td>\n",
       "      <td>['Zinger Burger', 'Chicken Kabab', 'Chicken Wi...</td>\n",
       "      <td>Delivery</td>\n",
       "      <td>Bannerghatta Road</td>\n",
       "    </tr>\n",
       "    <tr>\n",
       "      <th>2</th>\n",
       "      <td>https://www.zomato.com/bangalore/cakezone-jp-n...</td>\n",
       "      <td>1003</td>\n",
       "      <td>1260, SY 35/4, SJR Tower's, 7th Phase, 24th Ma...</td>\n",
       "      <td>CakeZone</td>\n",
       "      <td>Yes</td>\n",
       "      <td>No</td>\n",
       "      <td>3.7/5</td>\n",
       "      <td>13</td>\n",
       "      <td>080 43334321</td>\n",
       "      <td>JP Nagar</td>\n",
       "      <td>Takeaway, Delivery</td>\n",
       "      <td>NaN</td>\n",
       "      <td>Bakery, Desserts</td>\n",
       "      <td>[('Rated 1.0', \"RATED\\n  This is the worst pla...</td>\n",
       "      <td>['Red Velvet Cupcake', 'Chocolate Cupcake', 'V...</td>\n",
       "      <td>Delivery</td>\n",
       "      <td>Bannerghatta Road</td>\n",
       "    </tr>\n",
       "    <tr>\n",
       "      <th>3</th>\n",
       "      <td>https://www.zomato.com/bangalore/fujian-expres...</td>\n",
       "      <td>1004</td>\n",
       "      <td>1260, SY 35/4, SJR Tower's, 7th Phase, 24th Ma...</td>\n",
       "      <td>Fujian Express</td>\n",
       "      <td>Yes</td>\n",
       "      <td>No</td>\n",
       "      <td>3.6/5</td>\n",
       "      <td>34</td>\n",
       "      <td>080 43334321</td>\n",
       "      <td>JP Nagar</td>\n",
       "      <td>Quick Bites</td>\n",
       "      <td>NaN</td>\n",
       "      <td>Chinese, Thai</td>\n",
       "      <td>[('Rated 5.0', \"RATED\\n  Amazing food. I order...</td>\n",
       "      <td>['Combo 2', 'Combo 3', 'Combo 1', 'Combo 4', '...</td>\n",
       "      <td>Delivery</td>\n",
       "      <td>Bannerghatta Road</td>\n",
       "    </tr>\n",
       "    <tr>\n",
       "      <th>4</th>\n",
       "      <td>https://www.zomato.com/bangalore/indian-food-b...</td>\n",
       "      <td>1005</td>\n",
       "      <td>9, Near Jayadeva Signal, Oppoite SBI ATM, 100 ...</td>\n",
       "      <td>Indian Food</td>\n",
       "      <td>Yes</td>\n",
       "      <td>No</td>\n",
       "      <td>2.9/5</td>\n",
       "      <td>345</td>\n",
       "      <td>080 49652766</td>\n",
       "      <td>BTM</td>\n",
       "      <td>Takeaway, Delivery</td>\n",
       "      <td>NaN</td>\n",
       "      <td>North Indian, Biryani, Chinese, Momos</td>\n",
       "      <td>[]</td>\n",
       "      <td>['Rice with Spicy Paneer Curry', 'Rice with Mu...</td>\n",
       "      <td>Delivery</td>\n",
       "      <td>Bannerghatta Road</td>\n",
       "    </tr>\n",
       "  </tbody>\n",
       "</table>\n",
       "</div>"
      ],
      "text/plain": [
       "                                              serial   url  \\\n",
       "0  https://www.zomato.com/bangalore/sri-punjabi-d...  1001   \n",
       "1  https://www.zomato.com/bangalore/arabian-mexic...  1002   \n",
       "2  https://www.zomato.com/bangalore/cakezone-jp-n...  1003   \n",
       "3  https://www.zomato.com/bangalore/fujian-expres...  1004   \n",
       "4  https://www.zomato.com/bangalore/indian-food-b...  1005   \n",
       "\n",
       "                                             address               name  \\\n",
       "0  2/20, 100 Feet Ring Road, BTM 1st Stage, BTM, ...  Sri Punjabi Dhaba   \n",
       "1  21, 1st Cross, Lakshmi Layout, Oppsite DEJA Ap...     Arabian Mexico   \n",
       "2  1260, SY 35/4, SJR Tower's, 7th Phase, 24th Ma...           CakeZone   \n",
       "3  1260, SY 35/4, SJR Tower's, 7th Phase, 24th Ma...     Fujian Express   \n",
       "4  9, Near Jayadeva Signal, Oppoite SBI ATM, 100 ...        Indian Food   \n",
       "\n",
       "  online_order book_table   rate  votes           phone           location  \\\n",
       "0          Yes         No  3.3/5     39  +91 9632537148                BTM   \n",
       "1          Yes         No  3.4/5     43    080 45128698  Bannerghatta Road   \n",
       "2          Yes         No  3.7/5     13    080 43334321           JP Nagar   \n",
       "3          Yes         No  3.6/5     34    080 43334321           JP Nagar   \n",
       "4          Yes         No  2.9/5    345    080 49652766                BTM   \n",
       "\n",
       "            rest_type dish_liked                               cuisines  \\\n",
       "0               Dhaba        NaN                           North Indian   \n",
       "1         Quick Bites        NaN                     Fast Food, Arabian   \n",
       "2  Takeaway, Delivery        NaN                       Bakery, Desserts   \n",
       "3         Quick Bites        NaN                          Chinese, Thai   \n",
       "4  Takeaway, Delivery        NaN  North Indian, Biryani, Chinese, Momos   \n",
       "\n",
       "                                        reviews_list  \\\n",
       "0  [('Rated 1.0', 'RATED\\n  Sorry to say but this...   \n",
       "1  [('Rated 1.0', 'RATED\\n  Road side food is goo...   \n",
       "2  [('Rated 1.0', \"RATED\\n  This is the worst pla...   \n",
       "3  [('Rated 5.0', \"RATED\\n  Amazing food. I order...   \n",
       "4                                                 []   \n",
       "\n",
       "                                           menu_item listed_in(type)  \\\n",
       "0  ['Aloo Jeera', 'Paneer Patiyala', 'Malai Kofta...        Delivery   \n",
       "1  ['Zinger Burger', 'Chicken Kabab', 'Chicken Wi...        Delivery   \n",
       "2  ['Red Velvet Cupcake', 'Chocolate Cupcake', 'V...        Delivery   \n",
       "3  ['Combo 2', 'Combo 3', 'Combo 1', 'Combo 4', '...        Delivery   \n",
       "4  ['Rice with Spicy Paneer Curry', 'Rice with Mu...        Delivery   \n",
       "\n",
       "     listed_in(city)  \n",
       "0  Bannerghatta Road  \n",
       "1  Bannerghatta Road  \n",
       "2  Bannerghatta Road  \n",
       "3  Bannerghatta Road  \n",
       "4  Bannerghatta Road  "
      ]
     },
     "execution_count": 44,
     "metadata": {},
     "output_type": "execute_result"
    }
   ],
   "source": [
    "new_data"
   ]
  },
  {
   "cell_type": "code",
   "execution_count": null,
   "metadata": {},
   "outputs": [],
   "source": []
  },
  {
   "cell_type": "code",
   "execution_count": null,
   "metadata": {},
   "outputs": [],
   "source": []
  },
  {
   "cell_type": "code",
   "execution_count": null,
   "metadata": {},
   "outputs": [],
   "source": []
  },
  {
   "cell_type": "code",
   "execution_count": null,
   "metadata": {},
   "outputs": [],
   "source": []
  },
  {
   "cell_type": "code",
   "execution_count": null,
   "metadata": {},
   "outputs": [],
   "source": []
  },
  {
   "cell_type": "code",
   "execution_count": 7,
   "metadata": {},
   "outputs": [
    {
     "data": {
      "text/plain": [
       "(283, 17)"
      ]
     },
     "execution_count": 7,
     "metadata": {},
     "output_type": "execute_result"
    }
   ],
   "source": [
    "data"
   ]
  },
  {
   "cell_type": "code",
   "execution_count": 12,
   "metadata": {},
   "outputs": [],
   "source": [
    "b=[1.2,1.2,1.3,1.4]"
   ]
  },
  {
   "cell_type": "code",
   "execution_count": 10,
   "metadata": {},
   "outputs": [],
   "source": [
    "lambda a:float(a[1:-1])"
   ]
  },
  {
   "cell_type": "code",
   "execution_count": 14,
   "metadata": {},
   "outputs": [],
   "source": [
    "k=map(lambda a:float(a[1:-1]),b)"
   ]
  },
  {
   "cell_type": "code",
   "execution_count": 21,
   "metadata": {},
   "outputs": [
    {
     "data": {
      "text/plain": [
       "<generator object <genexpr> at 0x0000019180F60750>"
      ]
     },
     "execution_count": 21,
     "metadata": {},
     "output_type": "execute_result"
    }
   ],
   "source": [
    "[(lambda a:float(a[1:-1]) for a in b)"
   ]
  },
  {
   "cell_type": "code",
   "execution_count": 22,
   "metadata": {},
   "outputs": [],
   "source": [
    "import scipy as sp"
   ]
  },
  {
   "cell_type": "code",
   "execution_count": 28,
   "metadata": {},
   "outputs": [
    {
     "ename": "TypeError",
     "evalue": "_any_dispatcher() missing 1 required positional argument: 'a'",
     "output_type": "error",
     "traceback": [
      "\u001b[1;31m---------------------------------------------------------------------------\u001b[0m",
      "\u001b[1;31mTypeError\u001b[0m                                 Traceback (most recent call last)",
      "\u001b[1;32m<ipython-input-28-96c2d930ed80>\u001b[0m in \u001b[0;36m<module>\u001b[1;34m\u001b[0m\n\u001b[1;32m----> 1\u001b[1;33m \u001b[0msp\u001b[0m\u001b[1;33m.\u001b[0m\u001b[0many\u001b[0m\u001b[1;33m(\u001b[0m\u001b[1;33m)\u001b[0m\u001b[1;33m\u001b[0m\u001b[1;33m\u001b[0m\u001b[0m\n\u001b[0m",
      "\u001b[1;32m<__array_function__ internals>\u001b[0m in \u001b[0;36many\u001b[1;34m(*args, **kwargs)\u001b[0m\n",
      "\u001b[1;31mTypeError\u001b[0m: _any_dispatcher() missing 1 required positional argument: 'a'"
     ]
    }
   ],
   "source": [
    "sp.any"
   ]
  },
  {
   "cell_type": "code",
   "execution_count": 29,
   "metadata": {},
   "outputs": [
    {
     "name": "stdout",
     "output_type": "stream",
     "text": [
      "False\n"
     ]
    }
   ],
   "source": [
    "print(all([i for i in range(1)]))"
   ]
  },
  {
   "cell_type": "code",
   "execution_count": 35,
   "metadata": {},
   "outputs": [
    {
     "name": "stdout",
     "output_type": "stream",
     "text": [
      "The string representation of input array :  array([[ 4, -8,  7]])\n"
     ]
    }
   ],
   "source": [
    "import numpy as geek \n",
    "arr = geek.array([[4, -8, 7 ]]) \n",
    "  \n",
    "#print (\"Input  array : \", arr) \n",
    "#print(type(arr)) \n",
    "    \n",
    "out_arr = geek.array_repr(arr) \n",
    "print (\"The string representation of input array : \", out_arr)  \n",
    "#print(type(out_arr))\n"
   ]
  },
  {
   "cell_type": "code",
   "execution_count": 36,
   "metadata": {},
   "outputs": [
    {
     "data": {
      "text/plain": [
       "'[[ 4 -8  7]]'"
      ]
     },
     "execution_count": 36,
     "metadata": {},
     "output_type": "execute_result"
    }
   ],
   "source": [
    "geek.array_str(arr) "
   ]
  },
  {
   "cell_type": "code",
   "execution_count": 37,
   "metadata": {},
   "outputs": [
    {
     "data": {
      "text/plain": [
       "'array([[ 4, -8,  7]])'"
      ]
     },
     "execution_count": 37,
     "metadata": {},
     "output_type": "execute_result"
    }
   ],
   "source": [
    "geek.array_repr(arr) "
   ]
  },
  {
   "cell_type": "code",
   "execution_count": null,
   "metadata": {},
   "outputs": [],
   "source": []
  }
 ],
 "metadata": {
  "kernelspec": {
   "display_name": "Python 3",
   "language": "python",
   "name": "python3"
  },
  "language_info": {
   "codemirror_mode": {
    "name": "ipython",
    "version": 3
   },
   "file_extension": ".py",
   "mimetype": "text/x-python",
   "name": "python",
   "nbconvert_exporter": "python",
   "pygments_lexer": "ipython3",
   "version": "3.7.3"
  }
 },
 "nbformat": 4,
 "nbformat_minor": 2
}
